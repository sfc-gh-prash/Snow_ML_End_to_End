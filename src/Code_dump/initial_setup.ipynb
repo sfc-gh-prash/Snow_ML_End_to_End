{
 "cells": [
  {
   "cell_type": "code",
   "execution_count": null,
   "metadata": {},
   "outputs": [],
   "source": [
    "CREATE OR REPLACE WAREHOUSE Fraud_wh WITH\n",
    "WAREHOUSE_SIZE='X-SMALL'\n",
    "AUTO_SUSPEND = 120\n",
    "AUTO_RESUME = TRUE\n",
    "INITIALLY_SUSPENDED=TRUE;"
   ]
  },
  {
   "cell_type": "code",
   "execution_count": null,
   "metadata": {},
   "outputs": [],
   "source": [
    "create database if not exists Fraud_db;\n",
    "\n",
    "\n",
    "CREATE COMPUTE POOL Fraud_cp\n",
    "MIN_NODES = 1 MAX_NODES = 1 INSTANCE_FAMILY = CPU_X64_L \n",
    "AUTO_RESUME = TRUE INITIALLY_SUSPENDED = TRUE AUTO_SUSPEND_SECS = 300; "
   ]
  },
  {
   "cell_type": "code",
   "execution_count": null,
   "metadata": {},
   "outputs": [
    {
     "ename": "NameError",
     "evalue": "name 'Generate_Customer_Features' is not defined",
     "output_type": "error",
     "traceback": [
      "\u001b[0;31m---------------------------------------------------------------------------\u001b[0m",
      "\u001b[0;31mNameError\u001b[0m                                 Traceback (most recent call last)",
      "Cell \u001b[0;32mIn[1], line 1\u001b[0m\n\u001b[0;32m----> 1\u001b[0m cust_spdf\u001b[38;5;241m=\u001b[39m\u001b[43mGenerate_Customer_Features\u001b[49m\u001b[38;5;241m.\u001b[39mto_df()\n\u001b[1;32m      3\u001b[0m cust_spdf\u001b[38;5;241m.\u001b[39mwrite\u001b[38;5;241m.\u001b[39mmode(\u001b[38;5;124m'\u001b[39m\u001b[38;5;124moverwrite\u001b[39m\u001b[38;5;124m'\u001b[39m)\u001b[38;5;241m.\u001b[39msave_as_table(\u001b[38;5;124m'\u001b[39m\u001b[38;5;124mcustomer_features\u001b[39m\u001b[38;5;124m'\u001b[39m)\n\u001b[1;32m      4\u001b[0m cust_sdf\u001b[38;5;241m=\u001b[39msession\u001b[38;5;241m.\u001b[39msql(\u001b[38;5;124m\"\u001b[39m\u001b[38;5;124mselect * from customer_features\u001b[39m\u001b[38;5;124m\"\u001b[39m)\n",
      "\u001b[0;31mNameError\u001b[0m: name 'Generate_Customer_Features' is not defined"
     ]
    }
   ],
   "source": [
    "cust_spdf=Generate_Customer_Features.to_df()\n",
    "\n",
    "cust_spdf.write.mode('overwrite').save_as_table('customer_features')\n",
    "cust_sdf=session.sql(\"select * from customer_features\")\n",
    "\n",
    "\n",
    "trans_df=Generate_Transaction_Features.to_df()\n",
    "\n",
    "trans_df.write.mode('overwrite').save_as_table('transaction_features')\n",
    "trans_sdf=session.sql(\"select * from transaction_features\")\n",
    "\n",
    "\n",
    "managed_fv = FeatureView(\n",
    "    name=\"Customer_Features\",\n",
    "    entities = [customer_entity],\n",
    "    feature_df=cust_sdf,\n",
    "    overwrite=True\n",
    ")\n",
    "registered_fv = FS1.register_feature_view(\n",
    "    feature_view=managed_fv,\n",
    "    version=\"V1\"\n",
    ")\n",
    "\n",
    "\n",
    "managed_fv = FeatureView(\n",
    "    name=\"Trans_Features\",\n",
    "    entities = [transaction_entity],\n",
    "    feature_df=trans_sdf,\n",
    "    overwrite=True\n",
    "    \n",
    ")\n",
    "\n",
    "registered_fv = FS1.register_feature_view(\n",
    "    feature_view=managed_fv,\n",
    "    version=\"V1\"\n",
    ")"
   ]
  },
  {
   "cell_type": "code",
   "execution_count": null,
   "metadata": {},
   "outputs": [],
   "source": [
    "\n",
    "# Access feature views\n",
    "\n",
    "fs = FeatureStore(\n",
    "    session=session,\n",
    "    database=\"CC_FINS_DB\",\n",
    "    name=\"ANALYTICS\",\n",
    "    default_warehouse=\"CC_FINS_WH\",\n",
    "    creation_mode=CreationMode.FAIL_IF_NOT_EXIST\n",
    ")\n",
    "\n",
    "customer_fv : FeatureView = fs.get_feature_view(\n",
    "    name='Customer_Features',\n",
    "    version='V1'\n",
    ")\n",
    "print(customer_fv)\n",
    "\n",
    "trans_fv : FeatureView = fs.get_feature_view(\n",
    "    name='Trans_Features',\n",
    "    version='V1'\n",
    ")\n",
    "print(trans_fv)\n"
   ]
  },
  {
   "cell_type": "code",
   "execution_count": null,
   "metadata": {},
   "outputs": [],
   "source": [
    "# Get transactions dataset and get features from the feature store\n",
    "def create_dataset(spine_df, name):\n",
    "    train_dataset = fs.generate_dataset(\n",
    "    name=name,\n",
    "    spine_df=spine_df,\n",
    "    features=[customer_fv, trans_fv]\n",
    "    )\n",
    "    df = train_dataset.read.to_snowpark_dataframe()\n",
    "    return df\n",
    "# Split into train/validation/test\n",
    "\n",
    "\n",
    "datasets = TRANSACTIONS_DATA_df.random_split([.8,.2])\n",
    "\n",
    "# Build training tables\n",
    "train_df = create_dataset(datasets[0], \"train\")\n",
    "val_df = create_dataset(datasets[1], \"validation\")\n",
    "\n"
   ]
  }
 ],
 "metadata": {
  "kernelspec": {
   "display_name": "base",
   "language": "python",
   "name": "python3"
  },
  "language_info": {
   "codemirror_mode": {
    "name": "ipython",
    "version": 3
   },
   "file_extension": ".py",
   "mimetype": "text/x-python",
   "name": "python",
   "nbconvert_exporter": "python",
   "pygments_lexer": "ipython3",
   "version": "3.10.9"
  }
 },
 "nbformat": 4,
 "nbformat_minor": 2
}
